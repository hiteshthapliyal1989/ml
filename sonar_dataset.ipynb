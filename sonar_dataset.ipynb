{
 "cells": [
  {
   "cell_type": "code",
   "execution_count": null,
   "metadata": {},
   "outputs": [],
   "source": [
    "import numpy as np\n",
    "import pandas as pd\n",
    "import matplotlib.pyplot as plt\n",
    "import sklearn\n",
    "from sklearn.linear_model import LogisticRegression\n",
    "from sklearn.preprocessing import StandardScaler\n",
    "from sklearn.decomposition import PCA\n",
    "from sklearn.metrics import mean_squared_error,accuracy_score,confusion_matrix,classification_report\n",
    "from sklearn.model_selection import train_test_split"
   ]
  },
  {
   "cell_type": "code",
   "execution_count": null,
   "metadata": {},
   "outputs": [],
   "source": [
    "sonar=pd.read_csv('sonar.csv')\n",
    "sonar.head()\n",
    "sonar"
   ]
  },
  {
   "cell_type": "code",
   "execution_count": null,
   "metadata": {},
   "outputs": [],
   "source": [
    "x=ds.iloc[:,:60]\n",
    "y=ds.iloc[:,:-1]"
   ]
  },
  {
   "cell_type": "code",
   "execution_count": 44,
   "metadata": {},
   "outputs": [
    {
     "data": {
      "text/plain": [
       "Index(['0.0200', '0.0371', '0.0428', '0.0207', '0.0954', '0.0986', '0.1539',\n",
       "       '0.1601', '0.3109', '0.2111', '0.1609', '0.1582', '0.2238', '0.0645',\n",
       "       '0.0660', '0.2273', '0.3100', '0.2999', '0.5078', '0.4797', '0.5783',\n",
       "       '0.5071', '0.4328', '0.5550', '0.6711', '0.6415', '0.7104', '0.8080',\n",
       "       '0.6791', '0.3857', '0.1307', '0.2604', '0.5121', '0.7547', '0.8537',\n",
       "       '0.8507', '0.6692', '0.6097', '0.4943', '0.2744', '0.0510', '0.2834',\n",
       "       '0.2825', '0.4256', '0.2641', '0.1386', '0.1051', '0.1343', '0.0383',\n",
       "       '0.0324', '0.0232', '0.0027', '0.0065', '0.0159', '0.0072', '0.0167',\n",
       "       '0.0180', '0.0084', '0.0090', '0.0032', 'R'],\n",
       "      dtype='object')"
      ]
     },
     "execution_count": 44,
     "metadata": {},
     "output_type": "execute_result"
    }
   ],
   "source": [
    "ds.keys()"
   ]
  },
  {
   "cell_type": "code",
   "execution_count": 24,
   "metadata": {},
   "outputs": [],
   "source": [
    "x=sonar.iloc[:,0:60].values\n",
    "y=sonar.iloc[:,-1].values"
   ]
  },
  {
   "cell_type": "code",
   "execution_count": 25,
   "metadata": {},
   "outputs": [],
   "source": [
    "from sklearn.ensemble import GradientBoostingClassifier\n",
    "from sklearn.metrics import accuracy_score\n",
    "from sklearn.model_selection import cross_val_score\n",
    "xtrain,xtest,ytrain,ytest=train_test_split(x,y,test_size=.25,random_state=50)\n",
    "sc=StandardScaler()\n",
    "xtrain=sc.fit_transform(xtrain)\n",
    "xtest=sc.fit_transform(xtest)"
   ]
  },
  {
   "cell_type": "code",
   "execution_count": 26,
   "metadata": {},
   "outputs": [],
   "source": [
    "pca=PCA()\n",
    "x_pca=pca.fit_transform(xtrain)"
   ]
  },
  {
   "cell_type": "code",
   "execution_count": 29,
   "metadata": {},
   "outputs": [
    {
     "name": "stdout",
     "output_type": "stream",
     "text": [
      "The machine learning score for every iteration is:\n",
      " [0.76470588 0.75       0.875      0.6875     0.8        0.8\n",
      " 1.         0.73333333 0.66666667 0.93333333]\n",
      "Accuracy score is: 98.07692307692307 %\n",
      "Mean: 0.8010539215686274\n",
      "Standard deviation: 10.100287977763617 %\n",
      "Confusion Matrix:\n",
      " [[30  0]\n",
      " [ 1 21]]\n"
     ]
    }
   ],
   "source": [
    "model=GradientBoostingClassifier()\n",
    "model.fit(xtrain,ytrain)\n",
    "score=cross_val_score(model,xtrain,ytrain,cv=10,scoring='accuracy')\n",
    "pred=model.predict(xtest)\n",
    "print(\"The machine learning score for every iteration is:\\n\",score)\n",
    "print('Accuracy score is:',accuracy_score(ytest,pred)*100,'%')\n",
    "print('Mean:',score.mean())\n",
    "print('Standard deviation:',score.std()*100,'%')\n",
    "print('Confusion Matrix:\\n',confusion_matrix(ytest,pred))"
   ]
  },
  {
   "cell_type": "code",
   "execution_count": 33,
   "metadata": {},
   "outputs": [
    {
     "name": "stdout",
     "output_type": "stream",
     "text": [
      "The machine learning score for every iteration is: [0.92857143 0.92857143 0.84615385 0.92307692 1.         0.84615385\n",
      " 0.84615385 1.         0.92307692 0.75       0.75       0.58333333]\n",
      "Accuracy score is: 96.15384615384616 %\n",
      "Mean: 0.8604242979242981\n",
      "Standard deviation: 11.47021178644394 %\n",
      "Confusion Matrix:\n",
      " [[29  1]\n",
      " [ 1 21]]\n"
     ]
    }
   ],
   "source": [
    "# using pca\n",
    "model=GradientBoostingClassifier()\n",
    "model.fit(xtrain,ytrain)\n",
    "score=cross_val_score(model,x_pca,ytrain,cv=12,scoring='accuracy')\n",
    "pred=model.predict(xtest)\n",
    "print(\"The machine learning score for every iteration is:\",score)\n",
    "print('Accuracy score is:',accuracy_score(ytest,pred)*100,'%')\n",
    "print('Mean:',score.mean())\n",
    "print('Standard deviation:',score.std()*100,'%')\n",
    "print('Confusion Matrix:\\n',confusion_matrix(ytest,pred))"
   ]
  },
  {
   "cell_type": "code",
   "execution_count": null,
   "metadata": {},
   "outputs": [],
   "source": []
  },
  {
   "cell_type": "code",
   "execution_count": null,
   "metadata": {},
   "outputs": [],
   "source": []
  }
 ],
 "metadata": {
  "kernelspec": {
   "display_name": "Python 3",
   "language": "python",
   "name": "python3"
  },
  "language_info": {
   "codemirror_mode": {
    "name": "ipython",
    "version": 3
   },
   "file_extension": ".py",
   "mimetype": "text/x-python",
   "name": "python",
   "nbconvert_exporter": "python",
   "pygments_lexer": "ipython3",
   "version": "3.7.1"
  }
 },
 "nbformat": 4,
 "nbformat_minor": 2
}
